{
 "cells": [
  {
   "cell_type": "markdown",
   "metadata": {
    "slideshow": {
     "slide_type": "slide"
    }
   },
   "source": [
    "### Introduction to Python"
   ]
  },
  {
   "cell_type": "code",
   "execution_count": 1,
   "metadata": {
    "slideshow": {
     "slide_type": "subslide"
    }
   },
   "outputs": [
    {
     "name": "stdout",
     "output_type": "stream",
     "text": [
      "The Zen of Python, by Tim Peters\n",
      "\n",
      "Beautiful is better than ugly.\n",
      "Explicit is better than implicit.\n",
      "Simple is better than complex.\n",
      "Complex is better than complicated.\n",
      "Flat is better than nested.\n",
      "Sparse is better than dense.\n",
      "Readability counts.\n",
      "Special cases aren't special enough to break the rules.\n",
      "Although practicality beats purity.\n",
      "Errors should never pass silently.\n",
      "Unless explicitly silenced.\n",
      "In the face of ambiguity, refuse the temptation to guess.\n",
      "There should be one-- and preferably only one --obvious way to do it.\n",
      "Although that way may not be obvious at first unless you're Dutch.\n",
      "Now is better than never.\n",
      "Although never is often better than *right* now.\n",
      "If the implementation is hard to explain, it's a bad idea.\n",
      "If the implementation is easy to explain, it may be a good idea.\n",
      "Namespaces are one honking great idea -- let's do more of those!\n"
     ]
    }
   ],
   "source": [
    "import this"
   ]
  },
  {
   "cell_type": "markdown",
   "metadata": {
    "slideshow": {
     "slide_type": "slide"
    }
   },
   "source": [
    "### Variables, Integer and print function"
   ]
  },
  {
   "cell_type": "markdown",
   "metadata": {
    "slideshow": {
     "slide_type": "notes"
    }
   },
   "source": [
    "- 'a' is a variable. Variable is a place to store values.\n",
    "- '1' is the value assigned to 'a'.\n",
    "- '=' is an assignment operator.\n",
    "- print is a function used to print things to standard output.\n",
    "- single quotes - '', double quotes - \"\" and triple quotes - '''''' are used to represent strings.\n",
    "- curly braces - {} in f strings - f'' are used to evaluate a variable or an expression.\n",
    "- \\n is a special character new line character"
   ]
  },
  {
   "cell_type": "code",
   "execution_count": 56,
   "metadata": {
    "slideshow": {
     "slide_type": "fragment"
    }
   },
   "outputs": [
    {
     "name": "stdout",
     "output_type": "stream",
     "text": [
      "My name is Ajesh Mishra, I am 30 years old and I work at BNYM. \n",
      "Here is my address: TB/41, Nalco Nagar\n",
      "Angul - 759145\n",
      "Odisha\n",
      "India\n"
     ]
    }
   ],
   "source": [
    "name = 'Ajesh Mishra'\n",
    "age = 30\n",
    "company = \"BNYM\"\n",
    "address = '''TB/41, Nalco Nagar\n",
    "Angul - 759145\n",
    "Odisha\n",
    "India'''\n",
    "\n",
    "print(f'''My name is {name}, I am {age} years old and I work at {company}. \n",
    "Here is my address: {address}''')"
   ]
  },
  {
   "cell_type": "markdown",
   "metadata": {
    "slideshow": {
     "slide_type": "slide"
    }
   },
   "source": [
    "### Useful built-in functions - (type, help and dir)"
   ]
  },
  {
   "cell_type": "code",
   "execution_count": 57,
   "metadata": {
    "slideshow": {
     "slide_type": "fragment"
    }
   },
   "outputs": [
    {
     "name": "stdout",
     "output_type": "stream",
     "text": [
      "name is of type: <class 'str'>,\n",
      "age is of type: <class 'int'>, \n",
      "company is of type: <class 'str'> and\n",
      "address is of type: <class 'str'>\n"
     ]
    }
   ],
   "source": [
    "name = 'Ajesh Mishra'\n",
    "age = 30\n",
    "company = \"BNYM\"\n",
    "address = '''TB/41, Nalco Nagar\n",
    "Angul - 759145\n",
    "Odisha\n",
    "India'''\n",
    "\n",
    "print(f'''name is of type: {type(name)},\\nage is of type: {type(age)}, \n",
    "company is of type: {type(company)} and\\naddress is of type: {type(address)}''')"
   ]
  },
  {
   "cell_type": "markdown",
   "metadata": {
    "slideshow": {
     "slide_type": "slide"
    }
   },
   "source": [
    "### Integers"
   ]
  },
  {
   "cell_type": "code",
   "execution_count": 58,
   "metadata": {
    "slideshow": {
     "slide_type": "fragment"
    }
   },
   "outputs": [
    {
     "name": "stdout",
     "output_type": "stream",
     "text": [
      "The variable \"a\" is an <class 'int'> datatype with value 10.\"\n"
     ]
    }
   ],
   "source": [
    "a = 10\n",
    "print(f'The variable \"a\" is an {type(a)} datatype with value {a}.\"')"
   ]
  },
  {
   "cell_type": "markdown",
   "metadata": {
    "slideshow": {
     "slide_type": "subslide"
    }
   },
   "source": [
    "### Decimals"
   ]
  },
  {
   "cell_type": "code",
   "execution_count": 59,
   "metadata": {
    "slideshow": {
     "slide_type": "fragment"
    }
   },
   "outputs": [
    {
     "name": "stdout",
     "output_type": "stream",
     "text": [
      "The variable \"b\" is an <class 'float'> datatype with value 1.1.\"\n"
     ]
    }
   ],
   "source": [
    "b = 1.1\n",
    "print(f'The variable \"b\" is an {type(b)} datatype with value {b}.\"')"
   ]
  },
  {
   "cell_type": "markdown",
   "metadata": {
    "slideshow": {
     "slide_type": "subslide"
    }
   },
   "source": [
    "### Negetives"
   ]
  },
  {
   "cell_type": "code",
   "execution_count": 60,
   "metadata": {
    "slideshow": {
     "slide_type": "fragment"
    }
   },
   "outputs": [
    {
     "name": "stdout",
     "output_type": "stream",
     "text": [
      "The variable \"c\" is an <class 'int'> datatype with value -2.\"\n"
     ]
    }
   ],
   "source": [
    "c = -2\n",
    "print(f'The variable \"c\" is an {type(c)} datatype with value {c}.\"')"
   ]
  },
  {
   "cell_type": "markdown",
   "metadata": {
    "slideshow": {
     "slide_type": "subslide"
    }
   },
   "source": [
    "### Even large numbers"
   ]
  },
  {
   "cell_type": "code",
   "execution_count": 61,
   "metadata": {
    "slideshow": {
     "slide_type": "fragment"
    }
   },
   "outputs": [
    {
     "name": "stdout",
     "output_type": "stream",
     "text": [
      "The variable \"d\" is an <class 'int'> datatype with value 7497302082374748.\"\n"
     ]
    }
   ],
   "source": [
    "d = 7497302082374748\n",
    "print(f'The variable \"d\" is an {type(d)} datatype with value {d}.\"')"
   ]
  }
 ],
 "metadata": {
  "celltoolbar": "Slideshow",
  "kernelspec": {
   "display_name": "Python 3",
   "language": "python",
   "name": "python3"
  },
  "language_info": {
   "codemirror_mode": {
    "name": "ipython",
    "version": 3
   },
   "file_extension": ".py",
   "mimetype": "text/x-python",
   "name": "python",
   "nbconvert_exporter": "python",
   "pygments_lexer": "ipython3",
   "version": "3.7.1"
  }
 },
 "nbformat": 4,
 "nbformat_minor": 2
}
